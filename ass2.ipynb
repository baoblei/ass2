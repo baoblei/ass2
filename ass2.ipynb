{
 "cells": [
  {
   "cell_type": "code",
   "execution_count": null,
   "metadata": {},
   "outputs": [],
   "source": []
  }
 ],
 "metadata": {
  "kernelspec": {
   "display_name": "Python 3.9.13 ('d2l')",
   "language": "python",
   "name": "python3"
  },
  "language_info": {
   "name": "python",
   "version": "3.9.13"
  },
  "orig_nbformat": 4,
  "vscode": {
   "interpreter": {
    "hash": "4eb7214627cf817111b71af72ee0298630c114535c582e979b91450e4d37bfbb"
   }
  }
 },
 "nbformat": 4,
 "nbformat_minor": 2
}
